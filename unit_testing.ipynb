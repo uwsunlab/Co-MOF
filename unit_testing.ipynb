{
 "cells": [
  {
   "cell_type": "code",
   "execution_count": 1,
   "metadata": {},
   "outputs": [],
   "source": [
    "import pandas as pd \n",
    "import os\n",
    "import json\n",
    "import re\n",
    "import shutil\n",
    "from matplotlib import pyplot as plt\n",
    "import numpy as np"
   ]
  },
  {
   "cell_type": "code",
   "execution_count": 2,
   "metadata": {},
   "outputs": [],
   "source": [
    "dataset_df = pd.read_csv('co-mof_dataset/mof_dataset.csv')"
   ]
  },
  {
   "cell_type": "code",
   "execution_count": 3,
   "metadata": {},
   "outputs": [],
   "source": [
    "for i in range(len(dataset_df)):\n",
    "    plt.imshow(plt.imread(dataset_df[\"Image Path\"].loc[i]))\n",
    "    plt.close()"
   ]
  },
  {
   "cell_type": "code",
   "execution_count": 4,
   "metadata": {},
   "outputs": [],
   "source": [
    "with open('co-mof_dataset/synthesis_conditions.json') as f:\n",
    "    synth_conds = json.load(f)"
   ]
  },
  {
   "cell_type": "code",
   "execution_count": 5,
   "metadata": {},
   "outputs": [
    {
     "name": "stdout",
     "output_type": "stream",
     "text": [
      "There are 794 images in the dataset\n",
      "There are 51 synthesis conditions\n"
     ]
    }
   ],
   "source": [
    "print(f'There are {len(dataset_df)} images in the dataset')\n",
    "print(f'There are {len(synth_conds)} synthesis conditions')"
   ]
  }
 ],
 "metadata": {
  "kernelspec": {
   "display_name": "UW-SUN-Lab",
   "language": "python",
   "name": "python3"
  },
  "language_info": {
   "codemirror_mode": {
    "name": "ipython",
    "version": 3
   },
   "file_extension": ".py",
   "mimetype": "text/x-python",
   "name": "python",
   "nbconvert_exporter": "python",
   "pygments_lexer": "ipython3",
   "version": "3.10.15"
  }
 },
 "nbformat": 4,
 "nbformat_minor": 2
}
